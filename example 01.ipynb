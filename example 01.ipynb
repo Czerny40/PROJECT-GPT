{
 "cells": [
  {
   "cell_type": "code",
   "execution_count": 28,
   "metadata": {},
   "outputs": [],
   "source": [
    "from langchain.chat_models import ChatOpenAI\n",
    "from langchain.prompts import ChatPromptTemplate\n",
    "from langchain.callbacks import StreamingStdOutCallbackHandler\n",
    "\n",
    "chat = ChatOpenAI(\n",
    "    model_name=\"gpt-4o-mini\", temperature=0.9, streaming=True, callbacks=[StreamingStdOutCallbackHandler()]\n",
    ")"
   ]
  },
  {
   "cell_type": "code",
   "execution_count": 8,
   "metadata": {},
   "outputs": [
    {
     "data": {
      "text/plain": [
       "AIMessage(content='한국과 일본 사이의 거리는 약 200킬로미터에서 300킬로미터 정도입니다. 제 이름은 수현입니다.')"
      ]
     },
     "execution_count": 8,
     "metadata": {},
     "output_type": "execute_result"
    }
   ],
   "source": [
    "template = ChatPromptTemplate.from_messages(\n",
    "    [\n",
    "        (\"system\", \"You are a geography expert. And you only reply in {language}\"),\n",
    "        (\"ai\", \"Your name is {name}\"),\n",
    "        (\n",
    "            \"human\",\n",
    "            \"What is the distance between {country_a} and {country_b}? ALso, what is your name?\",\n",
    "        ),\n",
    "    ]\n",
    ")\n",
    "\n",
    "prompt = template.format_messages(\n",
    "    language=\"Korean\",\n",
    "    name=\"수현\",\n",
    "    country_a=\"Korea\",\n",
    "    country_b=\"Japan\",\n",
    ")\n",
    "\n",
    "chat.predict_messages(prompt)"
   ]
  },
  {
   "cell_type": "code",
   "execution_count": 11,
   "metadata": {},
   "outputs": [
    {
     "data": {
      "text/plain": [
       "['Hello', 'world!']"
      ]
     },
     "execution_count": 11,
     "metadata": {},
     "output_type": "execute_result"
    }
   ],
   "source": [
    "from langchain.schema import BaseOutputParser\n",
    "\n",
    "\n",
    "class CommaOutputParser(BaseOutputParser):\n",
    "\n",
    "    def parse(self, input: str) -> list:\n",
    "        items = input.strip().split(\",\")\n",
    "        return list(map(str.strip, items))\n",
    "\n",
    "\n",
    "p = CommaOutputParser()\n",
    "\n",
    "p.parse(\"Hello, world!\")"
   ]
  },
  {
   "cell_type": "code",
   "execution_count": null,
   "metadata": {},
   "outputs": [
    {
     "data": {
      "text/plain": [
       "['Tokyo Tower',\n",
       " 'Senso-ji Temple',\n",
       " 'Shibuya Crossing',\n",
       " 'Meiji Shrine',\n",
       " 'Tokyo Skytree']"
      ]
     },
     "execution_count": 17,
     "metadata": {},
     "output_type": "execute_result"
    }
   ],
   "source": [
    "template = ChatPromptTemplate.from_messages(\n",
    "    [\n",
    "        (\n",
    "            \"system\",\n",
    "            \"You are a list generating machine. Everything you are asked will be answered with a comma seperated list of max {max_items}. Do NOT reply with anything else.\",\n",
    "        ),\n",
    "        (\"human\", \"{question}\"),\n",
    "    ]\n",
    ")\n",
    "\n",
    "chain = template | chat | CommaOutputParser()\n",
    "\n",
    "chain.invoke(\n",
    "    {\n",
    "        \"max_items\": 5,\n",
    "        \"question\": \"What are some famous landmarks in Tokyo?\",\n",
    "    }\n",
    ")"
   ]
  },
  {
   "cell_type": "code",
   "execution_count": 26,
   "metadata": {},
   "outputs": [],
   "source": [
    "chef_prompt = ChatPromptTemplate.from_messages(\n",
    "    [\n",
    "        (\n",
    "            \"system\",\n",
    "            \"You are a world-class international chef. You create easy to follow recipies for any type of cuisine with easy to find ingredients.\",\n",
    "        ),\n",
    "        (\"human\", \"I want to cook {cuisine} food.\"),\n",
    "    ]\n",
    ")\n",
    "\n",
    "chef_chain = chef_prompt | chat"
   ]
  },
  {
   "cell_type": "code",
   "execution_count": 27,
   "metadata": {},
   "outputs": [
    {
     "name": "stdout",
     "output_type": "stream",
     "text": [
      "Great choice! Indian cuisine is rich in flavors and offers a variety of dishes that are relatively easy to prepare. Here’s a simple recipe for **Chana Masala**, a popular and delicious chickpea dish. It's vegetarian and packed with protein.\n",
      "\n",
      "### Chana Masala Recipe\n",
      "\n",
      "#### Ingredients:\n",
      "- **1 can (15 oz) chickpeas (garbanzo beans)**, drained and rinsed\n",
      "- **2 tablespoons vegetable oil** (or ghee)\n",
      "- **1 large onion**, finely chopped\n",
      "- **2 cloves garlic**, minced\n",
      "- **1-inch piece of ginger**, grated or minced\n",
      "- **2 medium tomatoes**, chopped (or 1 can of diced tomatoes)\n",
      "- **2 teaspoons ground cumin**\n",
      "- **2 teaspoons ground coriander**\n",
      "- **1 teaspoon garam masala**\n",
      "- **1 teaspoon turmeric powder**\n",
      "- **1-2 green chilies**, slit (adjust to taste)\n",
      "- **Salt**, to taste\n",
      "- **Fresh cilantro**, for garnish\n",
      "- **Juice of 1 lemon** (optional)\n",
      "- **Cooked rice or naan**, for serving\n",
      "\n",
      "#### Instructions:\n",
      "\n",
      "1. **Heat the Oil**: In a large skillet or pan, heat the vegetable oil over medium heat.\n",
      "\n",
      "2. **Sauté Onions**: Add the chopped onions and sauté until they become golden brown, about 5-7 minutes.\n",
      "\n",
      "3. **Add Garlic and Ginger**: Stir in the minced garlic and ginger. Cook for another 1-2 minutes until fragrant.\n",
      "\n",
      "4. **Add Spices**: Add the ground cumin, coriander, turmeric, and slit green chilies. Stir well and cook for about 1 minute to toast the spices.\n",
      "\n",
      "5. **Add Tomatoes**: Add the chopped tomatoes (or canned tomatoes). Cook until the tomatoes break down and the mixture thickens, about 5-7 minutes. You can mash the tomatoes with the back of a spoon to help them cook down.\n",
      "\n",
      "6. **Add Chickpeas**: Stir in the rinsed chickpeas and add salt to taste. If the mixture looks too thick, add a little water to achieve your desired consistency. \n",
      "\n",
      "7. **Simmer**: Let it simmer for about 10-15 minutes, stirring occasionally. If you like it spicier, you can add more green chilies at this stage.\n",
      "\n",
      "8. **Finish with Garam Masala**: Stir in the garam masala and cook for another 2-3 minutes.\n",
      "\n",
      "9. **Garnish**: Remove from heat and garnish with fresh cilantro and a squeeze of lemon juice, if desired.\n",
      "\n",
      "10. **Serve**: Serve hot with cooked rice or naan.\n",
      "\n",
      "### Tips:\n",
      "- You can add spinach or kale for added nutrition.\n",
      "- Adjust the spice levels to your preference.\n",
      "- For a creamier texture, you can add a splash of coconut milk or cream at the end.\n",
      "\n",
      "Enjoy your homemade Chana Masala! If you have any other dishes in mind or need further assistance, feel free to ask!This Chana Masala recipe is already vegetarian, so it suits your needs perfectly! Here’s a quick overview of some alternative ingredients you can consider and their preparation, though it seems the original ingredients are all suitable for a vegetarian dish:\n",
      "\n",
      "### Alternative Ingredients and Preparation:\n",
      "\n",
      "- **Ghee**: If you prefer to use a more traditional Indian cooking fat, you can replace vegetable oil with ghee, which is clarified butter. However, for a strict vegetarian approach, stick with vegetable oil or opt for a plant-based ghee substitute available in stores.\n",
      "\n",
      "- **Onion**: If you are looking for a milder flavor, you can substitute with shallots, which will give a slightly sweet taste.\n",
      "\n",
      "- **Green Chilies**: If you want to reduce spice levels, you can use bell peppers instead of green chilies. They won’t provide heat but will add color and sweetness.\n",
      "\n",
      "- **Tomatoes**: If you don't have fresh tomatoes, using canned tomatoes is a great alternative. You can also use tomato puree, but reduce the quantity slightly to avoid excess liquid.\n",
      "\n",
      "- **Cilantro**: If fresh cilantro is not available, you can use parsley for a different flavor profile, though the taste will not be quite the same.\n",
      "\n",
      "- **Coconut Milk/Cream**: If you want to add creaminess, coconut milk is a perfect alternative. Just add a splash at the end of cooking to keep the flavors balanced.\n",
      "\n",
      "### Tips for Preparation:\n",
      "- When using canned ingredients, always drain and rinse to reduce excess sodium.\n",
      "- Adjust spices according to your taste; consider using less if you're unsure of the heat level.\n",
      "- For added nutrition, you can toss in some cooked lentils or peas along with the chickpeas.\n",
      "\n",
      "Enjoy your cooking, and feel free to ask if you need help with anything else!"
     ]
    },
    {
     "data": {
      "text/plain": [
       "AIMessageChunk(content=\"This Chana Masala recipe is already vegetarian, so it suits your needs perfectly! Here’s a quick overview of some alternative ingredients you can consider and their preparation, though it seems the original ingredients are all suitable for a vegetarian dish:\\n\\n### Alternative Ingredients and Preparation:\\n\\n- **Ghee**: If you prefer to use a more traditional Indian cooking fat, you can replace vegetable oil with ghee, which is clarified butter. However, for a strict vegetarian approach, stick with vegetable oil or opt for a plant-based ghee substitute available in stores.\\n\\n- **Onion**: If you are looking for a milder flavor, you can substitute with shallots, which will give a slightly sweet taste.\\n\\n- **Green Chilies**: If you want to reduce spice levels, you can use bell peppers instead of green chilies. They won’t provide heat but will add color and sweetness.\\n\\n- **Tomatoes**: If you don't have fresh tomatoes, using canned tomatoes is a great alternative. You can also use tomato puree, but reduce the quantity slightly to avoid excess liquid.\\n\\n- **Cilantro**: If fresh cilantro is not available, you can use parsley for a different flavor profile, though the taste will not be quite the same.\\n\\n- **Coconut Milk/Cream**: If you want to add creaminess, coconut milk is a perfect alternative. Just add a splash at the end of cooking to keep the flavors balanced.\\n\\n### Tips for Preparation:\\n- When using canned ingredients, always drain and rinse to reduce excess sodium.\\n- Adjust spices according to your taste; consider using less if you're unsure of the heat level.\\n- For added nutrition, you can toss in some cooked lentils or peas along with the chickpeas.\\n\\nEnjoy your cooking, and feel free to ask if you need help with anything else!\")"
      ]
     },
     "execution_count": 27,
     "metadata": {},
     "output_type": "execute_result"
    }
   ],
   "source": [
    "veg_chef_prompt = ChatPromptTemplate.from_messages(\n",
    "    [\n",
    "        (\n",
    "            \"system\",\n",
    "            \"You are a vegetarian chef specialized on making traditional recipes vegetarian. You find alternative ingredients and explain their preparation. You don't radically modify the recipe. If there is no alternative for a food just say you don't know how to recipe it.\",\n",
    "        ),\n",
    "        (\"human\", \"{recipe}\"),\n",
    "    ]\n",
    ")\n",
    "\n",
    "veg_chain = veg_chef_prompt | chat\n",
    "\n",
    "final_chain = {\"recipe\": chef_chain} | veg_chain\n",
    "\n",
    "final_chain.invoke(\n",
    "    {\n",
    "        \"cuisine\": \"indian\",\n",
    "    }\n",
    ")"
   ]
  }
 ],
 "metadata": {
  "kernelspec": {
   "display_name": "env",
   "language": "python",
   "name": "python3"
  },
  "language_info": {
   "codemirror_mode": {
    "name": "ipython",
    "version": 3
   },
   "file_extension": ".py",
   "mimetype": "text/x-python",
   "name": "python",
   "nbconvert_exporter": "python",
   "pygments_lexer": "ipython3",
   "version": "3.11.8"
  }
 },
 "nbformat": 4,
 "nbformat_minor": 2
}
