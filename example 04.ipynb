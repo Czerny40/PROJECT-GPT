{
 "cells": [
  {
   "cell_type": "code",
   "execution_count": 1,
   "metadata": {},
   "outputs": [],
   "source": [
    "from langchain.chat_models import ChatOpenAI\n",
    "from langchain.callbacks import StreamingStdOutCallbackHandler\n",
    "from langchain.globals import set_llm_cache\n",
    "from langchain.cache import InMemoryCache\n",
    "\n",
    "set_llm_cache(InMemoryCache())\n",
    "\n",
    "chat = ChatOpenAI(\n",
    "    model_name=\"gpt-4o-mini\",\n",
    "    temperature=0.1,\n",
    "    # streaming=True,\n",
    "    # callbacks=[StreamingStdOutCallbackHandler()],\n",
    ")"
   ]
  },
  {
   "cell_type": "code",
   "execution_count": 2,
   "metadata": {},
   "outputs": [
    {
     "data": {
      "text/plain": [
       "'Making Italian pasta from scratch is a rewarding process! Here’s a simple recipe for fresh pasta:\\n\\n### Ingredients:\\n- 2 cups all-purpose flour (or \"00\" flour for a more authentic texture)\\n- 3 large eggs\\n- A pinch of salt\\n- A little water (if needed)\\n\\n### Instructions:\\n\\n1. **Make the Dough:**\\n   - On a clean surface or in a large bowl, create a mound with the flour. Make a well in the center.\\n   - Crack the eggs into the well and add a pinch of salt.\\n   - Using a fork, beat the eggs gently, then gradually incorporate the flour from the edges of the well until the mixture is too stiff to mix with a fork.\\n\\n2. **Knead the Dough:**\\n   - Once the dough starts to come together, use your hands to knead it. Knead for about 8-10 minutes until the dough is smooth and elastic. If the dough is too dry, add a little water; if it\\'s too sticky, sprinkle with a bit more flour.\\n   - Wrap the dough in plastic wrap or cover it with a cloth and let it rest for at least 30 minutes at room temperature. This allows the gluten to relax.\\n\\n3. **Roll Out the Dough:**\\n   - After resting, divide the dough into smaller portions for easier handling.\\n   - Using a rolling pin or a pasta machine, roll out the dough to your desired thickness. For traditional pasta, aim for about 1/16 inch thick.\\n\\n4. **Cut the Pasta:**\\n   - Depending on the type of pasta you want, you can cut the rolled-out dough into various shapes:\\n     - For tagliatelle or fettuccine, roll the sheet loosely and slice it into strips.\\n     - For lasagna, cut into rectangles.\\n     - For ravioli, place filling between two sheets of pasta, seal, and cut into squares.\\n\\n5. **Cook the Pasta:**\\n   - Bring a large pot of salted water to a boil. Add the fresh pasta and cook for 2-4 minutes, depending on the thickness. Fresh pasta cooks much faster than dried pasta.\\n   - Taste a piece to check for doneness, then drain and toss with your favorite sauce.\\n\\n### Tips:\\n- You can add flavorings to the dough, such as spinach or beet puree, for colored pasta.\\n- Store any unused pasta in the refrigerator for a couple of days or freeze it for longer storage.\\n\\nEnjoy your homemade Italian pasta!'"
      ]
     },
     "execution_count": 2,
     "metadata": {},
     "output_type": "execute_result"
    }
   ],
   "source": [
    "chat.predict(\"How do you make italian pasta?\")"
   ]
  },
  {
   "cell_type": "code",
   "execution_count": 4,
   "metadata": {},
   "outputs": [
    {
     "data": {
      "text/plain": [
       "'Making Italian pasta from scratch is a rewarding process! Here’s a simple recipe for fresh pasta:\\n\\n### Ingredients:\\n- 2 cups all-purpose flour (or \"00\" flour for a more authentic texture)\\n- 3 large eggs\\n- A pinch of salt\\n- A little water (if needed)\\n\\n### Instructions:\\n\\n1. **Make the Dough:**\\n   - On a clean surface or in a large bowl, create a mound with the flour. Make a well in the center.\\n   - Crack the eggs into the well and add a pinch of salt.\\n   - Using a fork, beat the eggs gently, then gradually incorporate the flour from the edges of the well until the mixture is too stiff to mix with a fork.\\n\\n2. **Knead the Dough:**\\n   - Once the dough starts to come together, use your hands to knead it. Knead for about 8-10 minutes until the dough is smooth and elastic. If the dough is too dry, add a little water; if it\\'s too sticky, sprinkle with a bit more flour.\\n   - Wrap the dough in plastic wrap or cover it with a cloth and let it rest for at least 30 minutes at room temperature. This allows the gluten to relax.\\n\\n3. **Roll Out the Dough:**\\n   - After resting, divide the dough into smaller portions for easier handling.\\n   - Using a rolling pin or a pasta machine, roll out the dough to your desired thickness. For traditional pasta, aim for about 1/16 inch thick.\\n\\n4. **Cut the Pasta:**\\n   - Depending on the type of pasta you want, you can cut the rolled-out dough into various shapes:\\n     - For tagliatelle or fettuccine, roll the sheet loosely and slice it into strips.\\n     - For lasagna, cut into rectangles.\\n     - For ravioli, place filling between two sheets of pasta, seal, and cut into squares.\\n\\n5. **Cook the Pasta:**\\n   - Bring a large pot of salted water to a boil. Add the fresh pasta and cook for 2-4 minutes, depending on the thickness. Fresh pasta cooks much faster than dried pasta.\\n   - Taste a piece to check for doneness, then drain and toss with your favorite sauce.\\n\\n### Tips:\\n- You can add flavorings to the dough, such as spinach or beet puree, for colored pasta.\\n- Store any unused pasta in the refrigerator for a couple of days or freeze it for longer storage.\\n\\nEnjoy your homemade Italian pasta!'"
      ]
     },
     "execution_count": 4,
     "metadata": {},
     "output_type": "execute_result"
    }
   ],
   "source": [
    "chat.predict(\"How do you make italian pasta?\")"
   ]
  }
 ],
 "metadata": {
  "kernelspec": {
   "display_name": "env",
   "language": "python",
   "name": "python3"
  },
  "language_info": {
   "codemirror_mode": {
    "name": "ipython",
    "version": 3
   },
   "file_extension": ".py",
   "mimetype": "text/x-python",
   "name": "python",
   "nbconvert_exporter": "python",
   "pygments_lexer": "ipython3",
   "version": "3.11.8"
  }
 },
 "nbformat": 4,
 "nbformat_minor": 2
}
