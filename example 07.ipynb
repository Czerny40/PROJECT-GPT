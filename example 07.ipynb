{
 "cells": [
  {
   "cell_type": "code",
   "execution_count": 12,
   "metadata": {},
   "outputs": [],
   "source": [
    "from langchain.chat_models import ChatOpenAI\n",
    "from langchain.document_loaders import UnstructuredFileLoader\n",
    "from langchain.text_splitter import CharacterTextSplitter\n",
    "from langchain.vectorstores import Chroma\n",
    "from langchain.embeddings import OpenAIEmbeddings, CacheBackedEmbeddings\n",
    "from langchain.storage import LocalFileStore\n",
    "\n",
    "cache_dir = LocalFileStore(\"./.cache/\")\n",
    "\n",
    "\n",
    "splitter = CharacterTextSplitter.from_tiktoken_encoder(\n",
    "    separator=\"\\n\",\n",
    "    chunk_size=600,\n",
    "    chunk_overlap=100,\n",
    ")\n",
    "\n",
    "loader = UnstructuredFileLoader(\"./files/anna_short.txt\")\n",
    "\n",
    "docs = loader.load_and_split(text_splitter=splitter)\n",
    "\n",
    "embeddings = OpenAIEmbeddings(\n",
    "    model=\"text-embedding-3-small\",  # 모델 지정\n",
    ")\n",
    "\n",
    "cached_embeddings = CacheBackedEmbeddings.from_bytes_store(\n",
    "    embeddings, cache_dir\n",
    ")\n",
    "\n",
    "vectorstore = Chroma.from_documents(docs, cached_embeddings)"
   ]
  },
  {
   "cell_type": "code",
   "execution_count": 15,
   "metadata": {},
   "outputs": [
    {
     "data": {
      "text/plain": [
       "[Document(page_content='……이러니까 삼차원은.\\n그렇게 됐으니 철저하게 못 본 척하자. 나는 불지도 못하는 휘파람을 불면서 메뉴를 읽는 척 가장한다.\\n그런 내 배려도 덧없이 야나미는 이쪽으로 와 맞은편 자리에 앉았다.\\n실화냐. 왜 날 가만두지 않는 건데.\\n\"같은 반인 누쿠미즈 군, 맞지?\"\\n\"으, 응. 야나미 씨, 있었구나. 전혀 알아차리지 못했어\"\\n우와, 완전 국어책 읽기잖아.\\n\"이, 이 일은 아무에게도 말하지 말아줘!\"\\n\"그, 그래. 나는 아무것도 못 봤어. 괜찮아\"\\n\"그래, 그렇다구! 누쿠미즈 군은 아무것도 보지 않았으니까!\"', metadata={'source': './files/anna_short.txt'}),\n",
       " Document(page_content='……이러니까 삼차원은.\\n그렇게 됐으니 철저하게 못 본 척하자. 나는 불지도 못하는 휘파람을 불면서 메뉴를 읽는 척 가장한다.\\n그런 내 배려도 덧없이 야나미는 이쪽으로 와 맞은편 자리에 앉았다.\\n실화냐. 왜 날 가만두지 않는 건데.\\n\"같은 반인 누쿠미즈 군, 맞지?\"\\n\"으, 응. 야나미 씨, 있었구나. 전혀 알아차리지 못했어\"\\n우와, 완전 국어책 읽기잖아.\\n\"이, 이 일은 아무에게도 말하지 말아줘!\"\\n\"그, 그래. 나는 아무것도 못 봤어. 괜찮아\"\\n\"그래, 그렇다구! 누쿠미즈 군은 아무것도 보지 않았으니까!\"', metadata={'source': './files/anna_short.txt'}),\n",
       " Document(page_content='……이러니까 삼차원은.\\n그렇게 됐으니 철저하게 못 본 척하자. 나는 불지도 못하는 휘파람을 불면서 메뉴를 읽는 척 가장한다.\\n그런 내 배려도 덧없이 야나미는 이쪽으로 와 맞은편 자리에 앉았다.\\n실화냐. 왜 날 가만두지 않는 건데.\\n\"같은 반인 누쿠미즈 군, 맞지?\"\\n\"으, 응. 야나미 씨, 있었구나. 전혀 알아차리지 못했어\"\\n우와, 완전 국어책 읽기잖아.\\n\"이, 이 일은 아무에게도 말하지 말아줘!\"\\n\"그, 그래. 나는 아무것도 못 봤어. 괜찮아\"\\n\"그래, 그렇다구! 누쿠미즈 군은 아무것도 보지 않았으니까!\"', metadata={'source': './files/anna_short.txt'}),\n",
       " Document(page_content='……이러니까 삼차원은.\\n그렇게 됐으니 철저하게 못 본 척하자. 나는 불지도 못하는 휘파람을 불면서 메뉴를 읽는 척 가장한다.\\n그런 내 배려도 덧없이 야나미는 이쪽으로 와 맞은편 자리에 앉았다.\\n실화냐. 왜 날 가만두지 않는 건데.\\n\"같은 반인 누쿠미즈 군, 맞지?\"\\n\"으, 응. 야나미 씨, 있었구나. 전혀 알아차리지 못했어\"\\n우와, 완전 국어책 읽기잖아.\\n\"이, 이 일은 아무에게도 말하지 말아줘!\"\\n\"그, 그래. 나는 아무것도 못 봤어. 괜찮아\"\\n\"그래, 그렇다구! 누쿠미즈 군은 아무것도 보지 않았으니까!\"', metadata={'source': './files/anna_short.txt'})]"
      ]
     },
     "execution_count": 15,
     "metadata": {},
     "output_type": "execute_result"
    }
   ],
   "source": [
    "results = vectorstore.similarity_search(\"\")\n",
    "\n",
    "results"
   ]
  }
 ],
 "metadata": {
  "kernelspec": {
   "display_name": "env",
   "language": "python",
   "name": "python3"
  },
  "language_info": {
   "codemirror_mode": {
    "name": "ipython",
    "version": 3
   },
   "file_extension": ".py",
   "mimetype": "text/x-python",
   "name": "python",
   "nbconvert_exporter": "python",
   "pygments_lexer": "ipython3",
   "version": "3.10.8"
  }
 },
 "nbformat": 4,
 "nbformat_minor": 2
}
