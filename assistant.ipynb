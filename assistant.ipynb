{
 "cells": [
  {
   "cell_type": "code",
   "execution_count": 123,
   "metadata": {},
   "outputs": [],
   "source": [
    "from langchain_community.utilities import GoogleSearchAPIWrapper\n",
    "import yfinance\n",
    "import json\n",
    "import requests\n",
    "import os\n",
    "\n",
    "\n",
    "def get_ticker(inputs):\n",
    "    company_name = inputs[\"company_name\"]\n",
    "    print(company_name)\n",
    "    base_url = \"https://www.alphavantage.co/query\"\n",
    "    api_key = os.getenv(\"ALPAVANTAGE_API_KEY\")\n",
    "    response = requests.get(\n",
    "        base_url,\n",
    "        params={\n",
    "            \"function\": \"SYMBOL_SEARCH\",\n",
    "            \"keywords\": company_name,\n",
    "            \"apikey\": api_key,\n",
    "        },\n",
    "    )\n",
    "\n",
    "    data = response.json()\n",
    "    try:\n",
    "        ticker = next(match['1. symbol'] for match in data[\"bestMatches\"] \n",
    "                      if match['4. region'] == 'United States')\n",
    "        return ticker\n",
    "    except StopIteration:\n",
    "        return \"Ticker Not Found\"\n",
    "\n",
    "\n",
    "def get_income_statement(inputs):\n",
    "    ticker = inputs[\"ticker\"]\n",
    "    stock = yfinance.Ticker(ticker)\n",
    "    return json.dumps(stock.income_stmt.to_json())\n",
    "\n",
    "\n",
    "def get_balance_sheet(inputs):\n",
    "    ticker = inputs[\"ticker\"]\n",
    "    stock = yfinance.Ticker(ticker)\n",
    "    return json.dumps(stock.balance_sheet.to_json())\n",
    "\n",
    "\n",
    "def get_daily_stock_performance(inputs):\n",
    "    ticker = inputs[\"ticker\"]\n",
    "    stock = yfinance.Ticker(ticker)\n",
    "    return json.dumps(stock.history(period=\"3mo\").to_json())\n",
    "\n",
    "functions_map = {\n",
    "    \"get_ticker\": get_ticker,\n",
    "    \"get_income_statement\": get_income_statement,\n",
    "    \"get_balance_sheet\": get_balance_sheet,\n",
    "    \"get_daily_stock_performance\": get_daily_stock_performance,\n",
    "}\n",
    "\n",
    "functions = [\n",
    "    {\n",
    "        \"type\": \"function\",\n",
    "        \"function\": {\n",
    "            \"name\": \"get_ticker\",\n",
    "            \"description\": \"Given the name of a company returns its ticker symbol\",\n",
    "            \"parameters\": {\n",
    "                \"type\": \"object\",\n",
    "                \"properties\": {\n",
    "                    \"company_name\": {\n",
    "                        \"type\": \"string\",\n",
    "                        \"description\": \"The name of the company\",\n",
    "                    }\n",
    "                },\n",
    "                \"required\": [\"company_name\"],\n",
    "            },\n",
    "        },\n",
    "    },\n",
    "    {\n",
    "        \"type\": \"function\",\n",
    "        \"function\": {\n",
    "            \"name\": \"get_income_statement\",\n",
    "            \"description\": \"Given a ticker symbol (i.e AAPL) returns the company's income statement.\",\n",
    "            \"parameters\": {\n",
    "                \"type\": \"object\",\n",
    "                \"properties\": {\n",
    "                    \"ticker\": {\n",
    "                        \"type\": \"string\",\n",
    "                        \"description\": \"Ticker symbol of the company\",\n",
    "                    },\n",
    "                },\n",
    "                \"required\": [\"ticker\"],\n",
    "            },\n",
    "        },\n",
    "    },\n",
    "    {\n",
    "        \"type\": \"function\",\n",
    "        \"function\": {\n",
    "            \"name\": \"get_balance_sheet\",\n",
    "            \"description\": \"Given a ticker symbol (i.e AAPL) returns the company's balance sheet.\",\n",
    "            \"parameters\": {\n",
    "                \"type\": \"object\",\n",
    "                \"properties\": {\n",
    "                    \"ticker\": {\n",
    "                        \"type\": \"string\",\n",
    "                        \"description\": \"Ticker symbol of the company\",\n",
    "                    },\n",
    "                },\n",
    "                \"required\": [\"ticker\"],\n",
    "            },\n",
    "        },\n",
    "    },\n",
    "    {\n",
    "        \"type\": \"function\",\n",
    "        \"function\": {\n",
    "            \"name\": \"get_daily_stock_performance\",\n",
    "            \"description\": \"Given a ticker symbol (i.e AAPL) returns the performance of the stock for the last 100 days.\",\n",
    "            \"parameters\": {\n",
    "                \"type\": \"object\",\n",
    "                \"properties\": {\n",
    "                    \"ticker\": {\n",
    "                        \"type\": \"string\",\n",
    "                        \"description\": \"Ticker symbol of the company\",\n",
    "                    },\n",
    "                },\n",
    "                \"required\": [\"ticker\"],\n",
    "            },\n",
    "        },\n",
    "    },\n",
    "]"
   ]
  },
  {
   "cell_type": "code",
   "execution_count": null,
   "metadata": {},
   "outputs": [],
   "source": [
    "from openai import OpenAI\n",
    "client = OpenAI()\n",
    "\n",
    "# assistant = client.beta.assistants.create(\n",
    "#     name=\"Investor Assistant\",\n",
    "#     instructions=\"You help users do research on publicly traded companies and you help users decide if they should buy the stock or not.\",\n",
    "#     model=\"gpt-4o-mini\",\n",
    "#     tools=functions,\n",
    "# )\n",
    "\n",
    "# assistant"
   ]
  },
  {
   "cell_type": "code",
   "execution_count": 124,
   "metadata": {},
   "outputs": [
    {
     "name": "stdout",
     "output_type": "stream",
     "text": [
      "Cloudflare\n"
     ]
    },
    {
     "data": {
      "text/plain": [
       "'NET'"
      ]
     },
     "execution_count": 124,
     "metadata": {},
     "output_type": "execute_result"
    }
   ],
   "source": [
    "get_ticker({\"company_name\":\"Cloudflare\"})"
   ]
  },
  {
   "cell_type": "code",
   "execution_count": null,
   "metadata": {},
   "outputs": [],
   "source": [
    "assistant_id = \"asst_A3UixVCK7ajFn9ESOBoBScPR\"\n",
    "\n",
    "thread = client.beta.threads.create(\n",
    "    messages=[\n",
    "        {\n",
    "            \"role\": \"user\",\n",
    "            \"content\": \"I want to know if the Salesforce stock is a good buy\",\n",
    "        }\n",
    "    ]\n",
    ")\n",
    "\n",
    "thread"
   ]
  },
  {
   "cell_type": "code",
   "execution_count": 143,
   "metadata": {},
   "outputs": [
    {
     "data": {
      "text/plain": [
       "Run(id='run_5XXD2XG3vFXAnq70KV1wOarO', assistant_id='asst_A3UixVCK7ajFn9ESOBoBScPR', cancelled_at=None, completed_at=None, created_at=1740986001, expires_at=1740986601, failed_at=None, incomplete_details=None, instructions='You help users do research on publicly traded companies and you help users decide if they should buy the stock or not.', last_error=None, max_completion_tokens=None, max_prompt_tokens=None, metadata={}, model='gpt-4o-mini', object='thread.run', parallel_tool_calls=True, required_action=None, response_format='auto', started_at=None, status='queued', thread_id='thread_BZ901ANg3cXn1Z4hPK7csKcG', tool_choice='auto', tools=[FunctionTool(function=FunctionDefinition(name='get_ticker', description='Given the name of a company returns its ticker symbol', parameters={'type': 'object', 'properties': {'company_name': {'type': 'string', 'description': 'The name of the company'}}, 'required': ['company_name']}, strict=False), type='function'), FunctionTool(function=FunctionDefinition(name='get_income_statement', description=\"Given a ticker symbol (i.e AAPL) returns the company's income statement.\", parameters={'type': 'object', 'properties': {'ticker': {'type': 'string', 'description': 'Ticker symbol of the company'}}, 'required': ['ticker']}, strict=False), type='function'), FunctionTool(function=FunctionDefinition(name='get_balance_sheet', description=\"Given a ticker symbol (i.e AAPL) returns the company's balance sheet.\", parameters={'type': 'object', 'properties': {'ticker': {'type': 'string', 'description': 'Ticker symbol of the company'}}, 'required': ['ticker']}, strict=False), type='function'), FunctionTool(function=FunctionDefinition(name='get_daily_stock_performance', description='Given a ticker symbol (i.e AAPL) returns the performance of the stock for the last 100 days.', parameters={'type': 'object', 'properties': {'ticker': {'type': 'string', 'description': 'Ticker symbol of the company'}}, 'required': ['ticker']}, strict=False), type='function')], truncation_strategy=TruncationStrategy(type='auto', last_messages=None), usage=None, temperature=1.0, top_p=1.0, tool_resources={}, reasoning_effort=None)"
      ]
     },
     "execution_count": 143,
     "metadata": {},
     "output_type": "execute_result"
    }
   ],
   "source": [
    "run = client.beta.threads.runs.create(\n",
    "    thread_id=thread.id,\n",
    "    assistant_id=assistant_id,\n",
    ")\n",
    "run"
   ]
  },
  {
   "cell_type": "code",
   "execution_count": 126,
   "metadata": {},
   "outputs": [],
   "source": [
    "def get_run(run_id, thread_id):\n",
    "    return client.beta.threads.runs.retrieve(run_id=run_id, thread_id=thread_id)\n",
    "\n",
    "\n",
    "def send_message(thread_id, content):\n",
    "    return client.beta.threads.messages.create(\n",
    "        thread_id=thread_id, role=\"user\", content=content\n",
    "    )\n",
    "\n",
    "\n",
    "def get_messages(thread_id):\n",
    "    messages = client.beta.threads.messages.list(thread_id=thread_id)\n",
    "    messages = list(messages)\n",
    "    messages.reverse()\n",
    "    for message in messages:\n",
    "        print(f\"{message.role}: {message.content[0].text.value}\")\n",
    "\n",
    "\n",
    "def get_tool_outputs(run_id, thread_id):\n",
    "    run = get_run(run_id, thread_id)\n",
    "    outputs = []\n",
    "    for action in run.required_action.submit_tool_outputs.tool_calls:\n",
    "        action_id = action.id\n",
    "        function = action.function\n",
    "        print(f\"Calling function: {function.name} with arg {function.arguments}\")\n",
    "        outputs.append(\n",
    "            {\n",
    "                \"output\": functions_map[function.name](json.loads(function.arguments)),\n",
    "                \"tool_call_id\": action_id,\n",
    "            }\n",
    "        )\n",
    "    return outputs\n",
    "\n",
    "\n",
    "def submit_tool_outputs(run_id, thread_id):\n",
    "    outputs = get_tool_outputs(run_id, thread_id)\n",
    "    return client.beta.threads.runs.submit_tool_outputs(\n",
    "        run_id=run_id, thread_id=thread_id, tool_outputs=outputs\n",
    "    )"
   ]
  },
  {
   "cell_type": "code",
   "execution_count": 145,
   "metadata": {},
   "outputs": [
    {
     "name": "stdout",
     "output_type": "stream",
     "text": [
      "Calling function: get_daily_stock_performance with arg {\"ticker\":\"NET\"}\n"
     ]
    },
    {
     "data": {
      "text/plain": [
       "[{'output': '\"{\\\\\"Open\\\\\":{\\\\\"1733115600000\\\\\":106.0299987793,\\\\\"1733202000000\\\\\":103.3700027466,\\\\\"1733288400000\\\\\":107.0,\\\\\"1733374800000\\\\\":109.4100036621,\\\\\"1733461200000\\\\\":111.2799987793,\\\\\"1733720400000\\\\\":112.9599990845,\\\\\"1733806800000\\\\\":112.8000030518,\\\\\"1733893200000\\\\\":112.3949966431,\\\\\"1733979600000\\\\\":112.4000015259,\\\\\"1734066000000\\\\\":114.8000030518,\\\\\"1734325200000\\\\\":113.9000015259,\\\\\"1734411600000\\\\\":118.2300033569,\\\\\"1734498000000\\\\\":117.5800018311,\\\\\"1734584400000\\\\\":110.3700027466,\\\\\"1734670800000\\\\\":108.0,\\\\\"1734930000000\\\\\":112.1600036621,\\\\\"1735016400000\\\\\":111.75,\\\\\"1735189200000\\\\\":112.1100006104,\\\\\"1735275600000\\\\\":111.9449996948,\\\\\"1735534800000\\\\\":108.6699981689,\\\\\"1735621200000\\\\\":109.0,\\\\\"1735794000000\\\\\":114.5,\\\\\"1735880400000\\\\\":113.4000015259,\\\\\"1736139600000\\\\\":116.3649978638,\\\\\"1736226000000\\\\\":116.6399993896,\\\\\"1736312400000\\\\\":112.4300003052,\\\\\"1736485200000\\\\\":111.1299972534,\\\\\"1736744400000\\\\\":110.0350036621,\\\\\"1736830800000\\\\\":112.4599990845,\\\\\"1736917200000\\\\\":113.5599975586,\\\\\"1737003600000\\\\\":115.4199981689,\\\\\"1737090000000\\\\\":119.4199981689,\\\\\"1737435600000\\\\\":119.2600021362,\\\\\"1737522000000\\\\\":120.7050018311,\\\\\"1737608400000\\\\\":122.9899978638,\\\\\"1737694800000\\\\\":125.0,\\\\\"1737954000000\\\\\":121.75,\\\\\"1738040400000\\\\\":128.8300018311,\\\\\"1738126800000\\\\\":137.8399963379,\\\\\"1738213200000\\\\\":137.25,\\\\\"1738299600000\\\\\":138.7299957275,\\\\\"1738558800000\\\\\":133.0,\\\\\"1738645200000\\\\\":139.5200042725,\\\\\"1738731600000\\\\\":139.7799987793,\\\\\"1738818000000\\\\\":142.9400024414,\\\\\"1738904400000\\\\\":153.5,\\\\\"1739163600000\\\\\":167.5,\\\\\"1739250000000\\\\\":170.0,\\\\\"1739336400000\\\\\":171.6900024414,\\\\\"1739422800000\\\\\":173.9199981689,\\\\\"1739509200000\\\\\":175.5,\\\\\"1739854800000\\\\\":166.4450073242,\\\\\"1739941200000\\\\\":166.3099975586,\\\\\"1740027600000\\\\\":158.25,\\\\\"1740114000000\\\\\":156.8200073242,\\\\\"1740373200000\\\\\":151.2200012207,\\\\\"1740459600000\\\\\":146.6999969482,\\\\\"1740546000000\\\\\":145.2700042725,\\\\\"1740632400000\\\\\":148.0,\\\\\"1740718800000\\\\\":140.0},\\\\\"High\\\\\":{\\\\\"1733115600000\\\\\":108.6169967651,\\\\\"1733202000000\\\\\":105.888999939,\\\\\"1733288400000\\\\\":110.8499984741,\\\\\"1733374800000\\\\\":112.8399963379,\\\\\"1733461200000\\\\\":113.6999969482,\\\\\"1733720400000\\\\\":114.6949996948,\\\\\"1733806800000\\\\\":113.8700027466,\\\\\"1733893200000\\\\\":115.8399963379,\\\\\"1733979600000\\\\\":115.1200027466,\\\\\"1734066000000\\\\\":115.2900009155,\\\\\"1734325200000\\\\\":115.4300003052,\\\\\"1734411600000\\\\\":119.4199981689,\\\\\"1734498000000\\\\\":117.5800018311,\\\\\"1734584400000\\\\\":111.1299972534,\\\\\"1734670800000\\\\\":113.5,\\\\\"1734930000000\\\\\":113.2699966431,\\\\\"1735016400000\\\\\":113.0999984741,\\\\\"1735189200000\\\\\":113.5400009155,\\\\\"1735275600000\\\\\":112.3600006104,\\\\\"1735534800000\\\\\":109.4000015259,\\\\\"1735621200000\\\\\":109.0400009155,\\\\\"1735794000000\\\\\":114.75,\\\\\"1735880400000\\\\\":114.8000030518,\\\\\"1736139600000\\\\\":117.0800018311,\\\\\"1736226000000\\\\\":118.1299972534,\\\\\"1736312400000\\\\\":115.9000015259,\\\\\"1736485200000\\\\\":113.25,\\\\\"1736744400000\\\\\":111.1600036621,\\\\\"1736830800000\\\\\":113.9000015259,\\\\\"1736917200000\\\\\":115.5199966431,\\\\\"1737003600000\\\\\":116.4700012207,\\\\\"1737090000000\\\\\":121.0199966431,\\\\\"1737435600000\\\\\":120.4499969482,\\\\\"1737522000000\\\\\":123.1299972534,\\\\\"1737608400000\\\\\":124.6399993896,\\\\\"1737694800000\\\\\":125.7099990845,\\\\\"1737954000000\\\\\":130.6450042725,\\\\\"1738040400000\\\\\":140.25,\\\\\"1738126800000\\\\\":138.1100006104,\\\\\"1738213200000\\\\\":139.5970001221,\\\\\"1738299600000\\\\\":142.4100036621,\\\\\"1738558800000\\\\\":138.6199951172,\\\\\"1738645200000\\\\\":141.6699981689,\\\\\"1738731600000\\\\\":144.3000030518,\\\\\"1738818000000\\\\\":144.0,\\\\\"1738904400000\\\\\":171.3800048828,\\\\\"1739163600000\\\\\":176.7250061035,\\\\\"1739250000000\\\\\":174.8999938965,\\\\\"1739336400000\\\\\":173.25,\\\\\"1739422800000\\\\\":176.5099945068,\\\\\"1739509200000\\\\\":177.3679962158,\\\\\"1739854800000\\\\\":170.3760070801,\\\\\"1739941200000\\\\\":167.6920013428,\\\\\"1740027600000\\\\\":158.2599945068,\\\\\"1740114000000\\\\\":158.0579986572,\\\\\"1740373200000\\\\\":151.6199951172,\\\\\"1740459600000\\\\\":147.6000061035,\\\\\"1740546000000\\\\\":146.8800048828,\\\\\"1740632400000\\\\\":150.6900024414,\\\\\"1740718800000\\\\\":145.7100067139},\\\\\"Low\\\\\":{\\\\\"1733115600000\\\\\":104.6100006104,\\\\\"1733202000000\\\\\":103.2099990845,\\\\\"1733288400000\\\\\":106.9400024414,\\\\\"1733374800000\\\\\":108.6100006104,\\\\\"1733461200000\\\\\":110.3499984741,\\\\\"1733720400000\\\\\":111.2799987793,\\\\\"1733806800000\\\\\":109.7300033569,\\\\\"1733893200000\\\\\":112.0,\\\\\"1733979600000\\\\\":111.3300018311,\\\\\"1734066000000\\\\\":112.6100006104,\\\\\"1734325200000\\\\\":112.1699981689,\\\\\"1734411600000\\\\\":116.0100021362,\\\\\"1734498000000\\\\\":108.4700012207,\\\\\"1734584400000\\\\\":107.0,\\\\\"1734670800000\\\\\":107.0699996948,\\\\\"1734930000000\\\\\":110.5299987793,\\\\\"1735016400000\\\\\":111.7030029297,\\\\\"1735189200000\\\\\":111.5500030518,\\\\\"1735275600000\\\\\":108.2099990845,\\\\\"1735534800000\\\\\":107.4899978638,\\\\\"1735621200000\\\\\":106.986000061,\\\\\"1735794000000\\\\\":110.6800003052,\\\\\"1735880400000\\\\\":112.0599975586,\\\\\"1736139600000\\\\\":112.5149993896,\\\\\"1736226000000\\\\\":112.9499969482,\\\\\"1736312400000\\\\\":111.4850006104,\\\\\"1736485200000\\\\\":109.5009994507,\\\\\"1736744400000\\\\\":108.5849990845,\\\\\"1736830800000\\\\\":111.3199996948,\\\\\"1736917200000\\\\\":113.1399993896,\\\\\"1737003600000\\\\\":114.1100006104,\\\\\"1737090000000\\\\\":116.7750015259,\\\\\"1737435600000\\\\\":117.9400024414,\\\\\"1737522000000\\\\\":119.8700027466,\\\\\"1737608400000\\\\\":122.0,\\\\\"1737694800000\\\\\":123.2799987793,\\\\\"1737954000000\\\\\":121.5,\\\\\"1738040400000\\\\\":125.6709976196,\\\\\"1738126800000\\\\\":134.2380065918,\\\\\"1738213200000\\\\\":135.8300018311,\\\\\"1738299600000\\\\\":138.1300048828,\\\\\"1738558800000\\\\\":130.0950012207,\\\\\"1738645200000\\\\\":137.9940032959,\\\\\"1738731600000\\\\\":139.0399932861,\\\\\"1738818000000\\\\\":140.5299987793,\\\\\"1738904400000\\\\\":152.3300018311,\\\\\"1739163600000\\\\\":164.5299987793,\\\\\"1739250000000\\\\\":168.5,\\\\\"1739336400000\\\\\":169.1699981689,\\\\\"1739422800000\\\\\":171.7599945068,\\\\\"1739509200000\\\\\":170.9199981689,\\\\\"1739854800000\\\\\":164.3300018311,\\\\\"1739941200000\\\\\":159.8899993896,\\\\\"1740027600000\\\\\":151.8399963379,\\\\\"1740114000000\\\\\":150.3999938965,\\\\\"1740373200000\\\\\":144.3800048828,\\\\\"1740459600000\\\\\":140.2200012207,\\\\\"1740546000000\\\\\":144.0500030518,\\\\\"1740632400000\\\\\":140.6499938965,\\\\\"1740718800000\\\\\":137.9400024414},\\\\\"Close\\\\\":{\\\\\"1733115600000\\\\\":105.0500030518,\\\\\"1733202000000\\\\\":104.9100036621,\\\\\"1733288400000\\\\\":110.7200012207,\\\\\"1733374800000\\\\\":110.4599990845,\\\\\"1733461200000\\\\\":112.9599990845,\\\\\"1733720400000\\\\\":113.8700027466,\\\\\"1733806800000\\\\\":111.1999969482,\\\\\"1733893200000\\\\\":114.5100021362,\\\\\"1733979600000\\\\\":114.8899993896,\\\\\"1734066000000\\\\\":113.5999984741,\\\\\"1734325200000\\\\\":114.6500015259,\\\\\"1734411600000\\\\\":117.5599975586,\\\\\"1734498000000\\\\\":109.0999984741,\\\\\"1734584400000\\\\\":108.5800018311,\\\\\"1734670800000\\\\\":112.6900024414,\\\\\"1734930000000\\\\\":111.5800018311,\\\\\"1735016400000\\\\\":112.5800018311,\\\\\"1735189200000\\\\\":112.6100006104,\\\\\"1735275600000\\\\\":110.6100006104,\\\\\"1735534800000\\\\\":109.0299987793,\\\\\"1735621200000\\\\\":107.6800003052,\\\\\"1735794000000\\\\\":112.5400009155,\\\\\"1735880400000\\\\\":114.7300033569,\\\\\"1736139600000\\\\\":113.9899978638,\\\\\"1736226000000\\\\\":113.6699981689,\\\\\"1736312400000\\\\\":115.6999969482,\\\\\"1736485200000\\\\\":112.6200027466,\\\\\"1736744400000\\\\\":110.7099990845,\\\\\"1736830800000\\\\\":112.0,\\\\\"1736917200000\\\\\":114.4800033569,\\\\\"1737003600000\\\\\":114.8199996948,\\\\\"1737090000000\\\\\":117.1600036621,\\\\\"1737435600000\\\\\":119.8499984741,\\\\\"1737522000000\\\\\":123.0899963379,\\\\\"1737608400000\\\\\":123.9300003052,\\\\\"1737694800000\\\\\":125.1200027466,\\\\\"1737954000000\\\\\":126.4700012207,\\\\\"1738040400000\\\\\":139.9799957275,\\\\\"1738126800000\\\\\":136.4400024414,\\\\\"1738213200000\\\\\":137.2599945068,\\\\\"1738299600000\\\\\":138.3999938965,\\\\\"1738558800000\\\\\":136.8399963379,\\\\\"1738645200000\\\\\":140.1399993896,\\\\\"1738731600000\\\\\":144.2899932861,\\\\\"1738818000000\\\\\":141.5200042725,\\\\\"1738904400000\\\\\":166.6600036621,\\\\\"1739163600000\\\\\":172.4900054932,\\\\\"1739250000000\\\\\":172.5500030518,\\\\\"1739336400000\\\\\":172.8300018311,\\\\\"1739422800000\\\\\":176.5,\\\\\"1739509200000\\\\\":171.1600036621,\\\\\"1739854800000\\\\\":168.8099975586,\\\\\"1739941200000\\\\\":160.5899963379,\\\\\"1740027600000\\\\\":156.3800048828,\\\\\"1740114000000\\\\\":151.9600067139,\\\\\"1740373200000\\\\\":148.0,\\\\\"1740459600000\\\\\":143.1399993896,\\\\\"1740546000000\\\\\":144.9199981689,\\\\\"1740632400000\\\\\":140.7200012207,\\\\\"1740718800000\\\\\":145.3000030518},\\\\\"Volume\\\\\":{\\\\\"1733115600000\\\\\":4588400,\\\\\"1733202000000\\\\\":1699400,\\\\\"1733288400000\\\\\":4434100,\\\\\"1733374800000\\\\\":3254400,\\\\\"1733461200000\\\\\":2745300,\\\\\"1733720400000\\\\\":3199100,\\\\\"1733806800000\\\\\":2703300,\\\\\"1733893200000\\\\\":2604100,\\\\\"1733979600000\\\\\":1633000,\\\\\"1734066000000\\\\\":1927900,\\\\\"1734325200000\\\\\":2197600,\\\\\"1734411600000\\\\\":3870400,\\\\\"1734498000000\\\\\":3932100,\\\\\"1734584400000\\\\\":3150600,\\\\\"1734670800000\\\\\":5114600,\\\\\"1734930000000\\\\\":1635900,\\\\\"1735016400000\\\\\":526500,\\\\\"1735189200000\\\\\":787100,\\\\\"1735275600000\\\\\":1496500,\\\\\"1735534800000\\\\\":1449200,\\\\\"1735621200000\\\\\":1292300,\\\\\"1735794000000\\\\\":3973200,\\\\\"1735880400000\\\\\":3157900,\\\\\"1736139600000\\\\\":2424500,\\\\\"1736226000000\\\\\":3628000,\\\\\"1736312400000\\\\\":3030000,\\\\\"1736485200000\\\\\":2292000,\\\\\"1736744400000\\\\\":2125900,\\\\\"1736830800000\\\\\":1928000,\\\\\"1736917200000\\\\\":2293300,\\\\\"1737003600000\\\\\":2058800,\\\\\"1737090000000\\\\\":3544100,\\\\\"1737435600000\\\\\":2700700,\\\\\"1737522000000\\\\\":2523900,\\\\\"1737608400000\\\\\":2602900,\\\\\"1737694800000\\\\\":2109700,\\\\\"1737954000000\\\\\":3994200,\\\\\"1738040400000\\\\\":7638300,\\\\\"1738126800000\\\\\":4315400,\\\\\"1738213200000\\\\\":2962700,\\\\\"1738299600000\\\\\":3241300,\\\\\"1738558800000\\\\\":4292100,\\\\\"1738645200000\\\\\":3021600,\\\\\"1738731600000\\\\\":3480700,\\\\\"1738818000000\\\\\":6808700,\\\\\"1738904400000\\\\\":15078000,\\\\\"1739163600000\\\\\":6849200,\\\\\"1739250000000\\\\\":4238200,\\\\\"1739336400000\\\\\":3207500,\\\\\"1739422800000\\\\\":2796800,\\\\\"1739509200000\\\\\":3558500,\\\\\"1739854800000\\\\\":5179400,\\\\\"1739941200000\\\\\":5541700,\\\\\"1740027600000\\\\\":5716500,\\\\\"1740114000000\\\\\":3654500,\\\\\"1740373200000\\\\\":4364400,\\\\\"1740459600000\\\\\":3851200,\\\\\"1740546000000\\\\\":2990600,\\\\\"1740632400000\\\\\":2901900,\\\\\"1740718800000\\\\\":4610000},\\\\\"Dividends\\\\\":{\\\\\"1733115600000\\\\\":0.0,\\\\\"1733202000000\\\\\":0.0,\\\\\"1733288400000\\\\\":0.0,\\\\\"1733374800000\\\\\":0.0,\\\\\"1733461200000\\\\\":0.0,\\\\\"1733720400000\\\\\":0.0,\\\\\"1733806800000\\\\\":0.0,\\\\\"1733893200000\\\\\":0.0,\\\\\"1733979600000\\\\\":0.0,\\\\\"1734066000000\\\\\":0.0,\\\\\"1734325200000\\\\\":0.0,\\\\\"1734411600000\\\\\":0.0,\\\\\"1734498000000\\\\\":0.0,\\\\\"1734584400000\\\\\":0.0,\\\\\"1734670800000\\\\\":0.0,\\\\\"1734930000000\\\\\":0.0,\\\\\"1735016400000\\\\\":0.0,\\\\\"1735189200000\\\\\":0.0,\\\\\"1735275600000\\\\\":0.0,\\\\\"1735534800000\\\\\":0.0,\\\\\"1735621200000\\\\\":0.0,\\\\\"1735794000000\\\\\":0.0,\\\\\"1735880400000\\\\\":0.0,\\\\\"1736139600000\\\\\":0.0,\\\\\"1736226000000\\\\\":0.0,\\\\\"1736312400000\\\\\":0.0,\\\\\"1736485200000\\\\\":0.0,\\\\\"1736744400000\\\\\":0.0,\\\\\"1736830800000\\\\\":0.0,\\\\\"1736917200000\\\\\":0.0,\\\\\"1737003600000\\\\\":0.0,\\\\\"1737090000000\\\\\":0.0,\\\\\"1737435600000\\\\\":0.0,\\\\\"1737522000000\\\\\":0.0,\\\\\"1737608400000\\\\\":0.0,\\\\\"1737694800000\\\\\":0.0,\\\\\"1737954000000\\\\\":0.0,\\\\\"1738040400000\\\\\":0.0,\\\\\"1738126800000\\\\\":0.0,\\\\\"1738213200000\\\\\":0.0,\\\\\"1738299600000\\\\\":0.0,\\\\\"1738558800000\\\\\":0.0,\\\\\"1738645200000\\\\\":0.0,\\\\\"1738731600000\\\\\":0.0,\\\\\"1738818000000\\\\\":0.0,\\\\\"1738904400000\\\\\":0.0,\\\\\"1739163600000\\\\\":0.0,\\\\\"1739250000000\\\\\":0.0,\\\\\"1739336400000\\\\\":0.0,\\\\\"1739422800000\\\\\":0.0,\\\\\"1739509200000\\\\\":0.0,\\\\\"1739854800000\\\\\":0.0,\\\\\"1739941200000\\\\\":0.0,\\\\\"1740027600000\\\\\":0.0,\\\\\"1740114000000\\\\\":0.0,\\\\\"1740373200000\\\\\":0.0,\\\\\"1740459600000\\\\\":0.0,\\\\\"1740546000000\\\\\":0.0,\\\\\"1740632400000\\\\\":0.0,\\\\\"1740718800000\\\\\":0.0},\\\\\"Stock Splits\\\\\":{\\\\\"1733115600000\\\\\":0.0,\\\\\"1733202000000\\\\\":0.0,\\\\\"1733288400000\\\\\":0.0,\\\\\"1733374800000\\\\\":0.0,\\\\\"1733461200000\\\\\":0.0,\\\\\"1733720400000\\\\\":0.0,\\\\\"1733806800000\\\\\":0.0,\\\\\"1733893200000\\\\\":0.0,\\\\\"1733979600000\\\\\":0.0,\\\\\"1734066000000\\\\\":0.0,\\\\\"1734325200000\\\\\":0.0,\\\\\"1734411600000\\\\\":0.0,\\\\\"1734498000000\\\\\":0.0,\\\\\"1734584400000\\\\\":0.0,\\\\\"1734670800000\\\\\":0.0,\\\\\"1734930000000\\\\\":0.0,\\\\\"1735016400000\\\\\":0.0,\\\\\"1735189200000\\\\\":0.0,\\\\\"1735275600000\\\\\":0.0,\\\\\"1735534800000\\\\\":0.0,\\\\\"1735621200000\\\\\":0.0,\\\\\"1735794000000\\\\\":0.0,\\\\\"1735880400000\\\\\":0.0,\\\\\"1736139600000\\\\\":0.0,\\\\\"1736226000000\\\\\":0.0,\\\\\"1736312400000\\\\\":0.0,\\\\\"1736485200000\\\\\":0.0,\\\\\"1736744400000\\\\\":0.0,\\\\\"1736830800000\\\\\":0.0,\\\\\"1736917200000\\\\\":0.0,\\\\\"1737003600000\\\\\":0.0,\\\\\"1737090000000\\\\\":0.0,\\\\\"1737435600000\\\\\":0.0,\\\\\"1737522000000\\\\\":0.0,\\\\\"1737608400000\\\\\":0.0,\\\\\"1737694800000\\\\\":0.0,\\\\\"1737954000000\\\\\":0.0,\\\\\"1738040400000\\\\\":0.0,\\\\\"1738126800000\\\\\":0.0,\\\\\"1738213200000\\\\\":0.0,\\\\\"1738299600000\\\\\":0.0,\\\\\"1738558800000\\\\\":0.0,\\\\\"1738645200000\\\\\":0.0,\\\\\"1738731600000\\\\\":0.0,\\\\\"1738818000000\\\\\":0.0,\\\\\"1738904400000\\\\\":0.0,\\\\\"1739163600000\\\\\":0.0,\\\\\"1739250000000\\\\\":0.0,\\\\\"1739336400000\\\\\":0.0,\\\\\"1739422800000\\\\\":0.0,\\\\\"1739509200000\\\\\":0.0,\\\\\"1739854800000\\\\\":0.0,\\\\\"1739941200000\\\\\":0.0,\\\\\"1740027600000\\\\\":0.0,\\\\\"1740114000000\\\\\":0.0,\\\\\"1740373200000\\\\\":0.0,\\\\\"1740459600000\\\\\":0.0,\\\\\"1740546000000\\\\\":0.0,\\\\\"1740632400000\\\\\":0.0,\\\\\"1740718800000\\\\\":0.0}}\"',\n",
       "  'tool_call_id': 'call_ot90JnJjkdEEVcH8zhQm11ka'}]"
      ]
     },
     "execution_count": 145,
     "metadata": {},
     "output_type": "execute_result"
    }
   ],
   "source": [
    "get_tool_outputs(run.id,thread.id)"
   ]
  },
  {
   "cell_type": "code",
   "execution_count": 146,
   "metadata": {},
   "outputs": [
    {
     "name": "stdout",
     "output_type": "stream",
     "text": [
      "Calling function: get_daily_stock_performance with arg {\"ticker\":\"NET\"}\n"
     ]
    },
    {
     "data": {
      "text/plain": [
       "Run(id='run_5XXD2XG3vFXAnq70KV1wOarO', assistant_id='asst_A3UixVCK7ajFn9ESOBoBScPR', cancelled_at=None, completed_at=None, created_at=1740986001, expires_at=1740986601, failed_at=None, incomplete_details=None, instructions='You help users do research on publicly traded companies and you help users decide if they should buy the stock or not.', last_error=None, max_completion_tokens=None, max_prompt_tokens=None, metadata={}, model='gpt-4o-mini', object='thread.run', parallel_tool_calls=True, required_action=None, response_format='auto', started_at=1740986005, status='queued', thread_id='thread_BZ901ANg3cXn1Z4hPK7csKcG', tool_choice='auto', tools=[FunctionTool(function=FunctionDefinition(name='get_ticker', description='Given the name of a company returns its ticker symbol', parameters={'type': 'object', 'properties': {'company_name': {'type': 'string', 'description': 'The name of the company'}}, 'required': ['company_name']}, strict=False), type='function'), FunctionTool(function=FunctionDefinition(name='get_income_statement', description=\"Given a ticker symbol (i.e AAPL) returns the company's income statement.\", parameters={'type': 'object', 'properties': {'ticker': {'type': 'string', 'description': 'Ticker symbol of the company'}}, 'required': ['ticker']}, strict=False), type='function'), FunctionTool(function=FunctionDefinition(name='get_balance_sheet', description=\"Given a ticker symbol (i.e AAPL) returns the company's balance sheet.\", parameters={'type': 'object', 'properties': {'ticker': {'type': 'string', 'description': 'Ticker symbol of the company'}}, 'required': ['ticker']}, strict=False), type='function'), FunctionTool(function=FunctionDefinition(name='get_daily_stock_performance', description='Given a ticker symbol (i.e AAPL) returns the performance of the stock for the last 100 days.', parameters={'type': 'object', 'properties': {'ticker': {'type': 'string', 'description': 'Ticker symbol of the company'}}, 'required': ['ticker']}, strict=False), type='function')], truncation_strategy=TruncationStrategy(type='auto', last_messages=None), usage=None, temperature=1.0, top_p=1.0, tool_resources={}, reasoning_effort=None)"
      ]
     },
     "execution_count": 146,
     "metadata": {},
     "output_type": "execute_result"
    }
   ],
   "source": [
    "submit_tool_outputs(run.id, thread.id)"
   ]
  },
  {
   "cell_type": "code",
   "execution_count": 149,
   "metadata": {},
   "outputs": [
    {
     "data": {
      "text/plain": [
       "'completed'"
      ]
     },
     "execution_count": 149,
     "metadata": {},
     "output_type": "execute_result"
    }
   ],
   "source": [
    "get_run(run.id, thread.id).status"
   ]
  },
  {
   "cell_type": "code",
   "execution_count": 150,
   "metadata": {},
   "outputs": [
    {
     "name": "stdout",
     "output_type": "stream",
     "text": [
      "user: I want to know if the Salesforce stock is a good buy\n",
      "user: Please go ahead\n",
      "assistant: ### Salesforce (CRM) Overview\n",
      "\n",
      "#### Income Statement Highlights\n",
      "- **Total Revenue (Latest)**: $34.86 billion (Year over Year improvement)\n",
      "- **Net Income**: $4.14 billion\n",
      "- **Diluted EPS (Earnings Per Share)**: $4.20\n",
      "\n",
      "#### Balance Sheet Highlights\n",
      "- **Total Assets**: $99.82 billion\n",
      "- **Total Liabilities**: $40.18 billion\n",
      "- **Stockholders Equity**: $59.65 billion\n",
      "- **Net Debt**: $9.54 billion\n",
      "\n",
      "#### Stock Performance (Last 100 Days)\n",
      "- **Current Price**: $329.40 (as of the last trading day)\n",
      "- **Recent High**: $368.58\n",
      "- **Recent Low**: $292.15\n",
      "\n",
      "### Analysis\n",
      "\n",
      "1. **Financial Health**:\n",
      "   - Salesforce has a solid revenue stream with significant gross profits. The company also demonstrates robust net income, showing profitable growth.\n",
      "\n",
      "2. **Balance Sheet**:\n",
      "   - The asset level surpasses liabilities significantly. With total equity of $59.65 billion, Salesforce is relatively strong leverage-wise. However, the net debt of $9.54 billion does suggest the company is leveraging debt for growth, consistent with many growth-oriented tech companies.\n",
      "\n",
      "3. **Stock Performance**:\n",
      "   - The stock's recent trading range indicates some price fluctuation, which can be appealing for short-term traders, yet it remains fundamentally strong. \n",
      "   - The recent high of $368.58 showed that the stock is capable of performing at a high valuation level, while the low of $292.15 could be considered as a potential entry point for gains.\n",
      "\n",
      "### Conclusion\n",
      "Salesforce appears to be performing well based on its financials and the growth trajectory in revenue and profit. However, potential investors should weigh the risks associated with market volatility and economic conditions.\n",
      "\n",
      "**Recommendation**: If you believe in Salesforce's long-term growth potential, buying the stock at current levels, while considering your risk tolerance and investment horizon, could be a strategic option. If you're looking for bargain prices, monitoring for dips closer to the low end of its recent range might be advisable.\n",
      "user: Now I want to know if CloudFlare is a good buy.\n",
      "assistant: It appears that there is currently no available data for Cloudflare (ticker symbol: N2ET34.SAO) regarding its income statement, balance sheet, or stock performance. This may be due to the fact that it is either newly listed or not widely analyzed.\n",
      "\n",
      "### General Analysis\n",
      "1. **Cloudflare Overview**: Cloudflare is known for offering a wide range of services such as website security, DDoS mitigation, content delivery network services, and domain name system services. Its growth is driven by the increasing demand for cybersecurity and efficient online performance.\n",
      "\n",
      "2. **Market Position**: As a leader in its sector, Cloudflare continues to expand its customer base and enhance its platform, leveraging the growing trend toward cloud adoption and internet security.\n",
      "\n",
      "3. **Investing Considerations**:\n",
      "   - **Growth Potential**: If you believe in the future growth potential of cloud-based services and cybersecurity, Cloudflare could be a worthwhile investment opportunity.\n",
      "   - **Valuation**: Without current financial data, it is vital to analyze recent news, financial trends, and analyst opinions to determine if the stock is currently overvalued or undervalued.\n",
      "\n",
      "### Conclusion\n",
      "While I cannot provide specific numbers or recent stock performance details, Cloudflare has generally been regarded as a growth stock, likely appealing to investors focused on long-term capital appreciation. \n",
      "\n",
      "**Recommendation**: If you have a higher risk tolerance and believe in the company's long-term business model, it could be worth considering. However, I recommend doing additional research and potentially consulting with a financial advisor. If you want updates or metrics, you might consider checking financial news websites or stock analysis platforms that cover Cloudflare.\n",
      "assistant: It seems that I am unable to retrieve specific financial data for Cloudflare (potentially due to it being listed on an exchange not covered or available for analysis). \n",
      "\n",
      "### Recommendation\n",
      "\n",
      "1. **Explore Other Sources**: I recommend checking financial news platforms, investment websites, or stock market applications for Cloudflare's performance metrics, recent news, and analysts' ratings.\n",
      "\n",
      "2. **Analyze the Sector**: In addition to individual stock research, consider evaluating the broader tech and cybersecurity markets to gauge trends that may affect Cloudflare’s performance.\n",
      "\n",
      "3. **Stay Updated**: Keep an eye on earnings reports, company announcements, and macroeconomic factors that could influence the stock price in the short and long term.\n",
      "\n",
      "If you have more specific questions or if there's another stock you'd like to analyze, feel free to ask!\n",
      "user: Now I want to know if CloudFlare is a good buy.\n",
      "assistant: ### Cloudflare (NET) Overview\n",
      "\n",
      "#### Income Statement Highlights\n",
      "- **Total Revenue (Latest)**: $1.67 billion\n",
      "- **Net Income**: -$78.8 million (indicating a loss)\n",
      "- **Diluted EPS (Earnings Per Share)**: -$0.23\n",
      "\n",
      "#### Balance Sheet Highlights\n",
      "- **Total Assets**: $3.30 billion\n",
      "- **Total Liabilities**: $2.25 billion\n",
      "- **Stockholders Equity**: $1.05 billion\n",
      "- **Net Debt**: $1.14 billion\n",
      "\n",
      "#### Stock Performance (Last 100 Days)\n",
      "- **Recent Price**: Approximately $145.30\n",
      "- **Recent High**: $177.37\n",
      "- **Recent Low**: $104.61\n",
      "- **Historical Volatility**: Significant trading volume, indicating interest but also potential volatility.\n",
      "\n",
      "### Analysis\n",
      "\n",
      "1. **Financial Performance**:\n",
      "   - Cloudflare has demonstrated impressive revenue growth, increasing its top-line significantly. However, it is currently operating at a loss, which raises concerns about sustainability and the path to profitability.\n",
      "   - **Operating Expenses**: The high operating expenses, primarily in R&D and SG&A (Selling, General and Administrative), are indicators of an aggressive growth strategy, which is common in tech companies.\n",
      "\n",
      "2. **Balance Sheet Strength**:\n",
      "   - The company maintains a decent amount of assets compared to its liabilities, leading to a solid equity foundation. However, the net debt level suggests that Cloudflare is investing heavily into its growth, which should be monitored closely moving forward.\n",
      "\n",
      "3. **Stock Performance and Valuation**:\n",
      "   - Cloudflare’s stock price has shown significant fluctuations recently. While it's trading off its highs, the current price offers both potential growth upside and risk.\n",
      "   - Since the stock does not currently pay dividends, returns for investors would need to come from capital appreciation.\n",
      "\n",
      "### Conclusion\n",
      "Cloudflare operates in a competitive sector with high growth potential, especially as digital security and web optimization are increasingly critical. However, its current losses and high operating costs could pose risks for investors who are particularly sensitive to volatility or looking for immediate profitability.\n",
      "\n",
      "**Recommendation**: \n",
      "Investing in Cloudflare could be sensible for those who believe in long-term growth in the tech and cybersecurity sectors and can accept short-term risks and volatility. If you prefer more stable or immediate returns, it might be prudent to wait for clearer signs of profitability or a more attractive entry point.\n",
      "\n",
      "As always, consider your investment strategy, seek additional information, and potentially consult with a financial advisor before making a decision.\n",
      "user: Now I want to know if CloudFlare is a good buy.\n",
      "assistant: ### Cloudflare (NET) Stock Evaluation\n",
      "\n",
      "#### Financial Summary\n",
      "- **Total Revenue**: $1.67 billion (latest fiscal year)\n",
      "- **Net Income**: -$78.8 million (indicating a loss)\n",
      "- **Diluted EPS**: -$0.23\n",
      "\n",
      "#### Balance Sheet Highlights\n",
      "- **Total Assets**: $3.30 billion\n",
      "- **Total Liabilities**: $2.25 billion\n",
      "- **Shareholders Equity**: $1.05 billion\n",
      "- **Net Debt**: $1.14 billion\n",
      "\n",
      "#### Stock Performance Snapshot\n",
      "- **Current Share Price**: Approximately $145.30\n",
      "- **52-week High**: $177.37\n",
      "- **52-week Low**: $104.61\n",
      "- **Date of Recent Closing Price**: Last trading price was $145.30.\n",
      "\n",
      "### Key Observations\n",
      "\n",
      "1. **Revenue Growth vs. Net Income**:\n",
      "   - Cloudflare shows strong revenue generation, but ongoing losses raise questions about profitability. The significant investment in R&D and marketing indicates a strategy focused on growth rather than immediate profitability.\n",
      "\n",
      "2. **Debt Levels**:\n",
      "   - The company has a manageable level of debt given its asset base, but substantial net debt indicates it has leveraged growth, which could pose risks if revenue doesn't follow through to significant profits.\n",
      "\n",
      "3. **Stock Price Trends**:\n",
      "   - The stock has fluctuated significantly, exhibiting volatility. A current price near $145.30 suggests it is closer to mid-range against its 52-week spectrum, which may present a favorable entry point depending on your investment strategy.\n",
      "\n",
      "4. **Market Context**:\n",
      "   - As a key player in cybersecurity and web performance, Cloudflare benefits from increasing digital demand. However, broader market trends in tech and interest rate influences must be considered, as they can affect growth stocks like Cloudflare more substantially.\n",
      "\n",
      "### Conclusion\n",
      "Cloudflare stands as a strong player in its field with high growth potential, reflecting in its revenue figures. However, investors must consider its current losses and debt levels.\n",
      "\n",
      "**Recommendation**:\n",
      "- **Buy**: For investors who believe in long-term growth in tech and cybersecurity, Cloudflare may be a good buy at current levels. \n",
      "- **Wait**: If risk-averse, it may be prudent to wait for clearer signs of profitability or a lower entry price if the stock faces market corrections.\n",
      "\n",
      "As always, consider your financial goals and research further or consult a financial advisor before making investment decisions.\n"
     ]
    }
   ],
   "source": [
    "get_messages(thread.id)"
   ]
  },
  {
   "cell_type": "code",
   "execution_count": 141,
   "metadata": {},
   "outputs": [
    {
     "data": {
      "text/plain": [
       "Message(id='msg_9k2DuYgohvojtR9NCfgs9gmP', assistant_id=None, attachments=[], completed_at=None, content=[TextContentBlock(text=Text(annotations=[], value='Now I want to know if CloudFlare is a good buy.'), type='text')], created_at=1740985901, incomplete_at=None, incomplete_details=None, metadata={}, object='thread.message', role='user', run_id=None, status=None, thread_id='thread_BZ901ANg3cXn1Z4hPK7csKcG')"
      ]
     },
     "execution_count": 141,
     "metadata": {},
     "output_type": "execute_result"
    }
   ],
   "source": [
    "send_message(thread.id, \"Now I want to know if CloudFlare is a good buy.\")"
   ]
  }
 ],
 "metadata": {
  "kernelspec": {
   "display_name": "env",
   "language": "python",
   "name": "python3"
  },
  "language_info": {
   "codemirror_mode": {
    "name": "ipython",
    "version": 3
   },
   "file_extension": ".py",
   "mimetype": "text/x-python",
   "name": "python",
   "nbconvert_exporter": "python",
   "pygments_lexer": "ipython3",
   "version": "3.11.8"
  }
 },
 "nbformat": 4,
 "nbformat_minor": 2
}
