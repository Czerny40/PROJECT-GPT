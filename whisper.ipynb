{
 "cells": [
  {
   "cell_type": "code",
   "execution_count": 1,
   "metadata": {},
   "outputs": [],
   "source": [
    "import subprocess\n",
    "\n",
    "def extract_audio(video_path, audio_path):\n",
    "    command = [\"ffmpeg\", \"-i\", video_path, \"-vn\", audio_path]\n",
    "    subprocess.run(command)\n",
    "\n",
    "\n",
    "video_path = \"./files/videoplayback.mp4\"\n",
    "audio_path = \"./files/audio.mp3\"\n",
    "\n",
    "extract_audio(video_path, audio_path)"
   ]
  },
  {
   "cell_type": "code",
   "execution_count": 20,
   "metadata": {},
   "outputs": [],
   "source": [
    "from pydub import AudioSegment\n",
    "import math\n",
    "\n",
    "def cut_audio_in_chunks(audio_path, chunk_size, chunks_folder):\n",
    "    track = AudioSegment.from_mp3(audio_path)\n",
    "    overlap_size = 10 * 1000\n",
    "    chunk_len = chunk_size * 60 * 1000 - overlap_size\n",
    "    chunks = math.ceil(len(track) / chunk_len)\n",
    "    for i in range(chunks):\n",
    "        start_time = i * chunk_len\n",
    "        end_time = (i + 1) * chunk_len + overlap_size\n",
    "\n",
    "        chunk = track[start_time:end_time]\n",
    "\n",
    "        chunk.export(f\"./{chunks_folder}/chunk_{i:02d}.mp3\", format=\"mp3\")\n",
    "\n",
    "cut_audio_in_chunks(audio_path, 10, \"./files/chunks\")"
   ]
  },
  {
   "cell_type": "code",
   "execution_count": null,
   "metadata": {},
   "outputs": [],
   "source": [
    "import openai\n",
    "import glob\n",
    "\n",
    "\n",
    "def transcript_chunks(chunks_folder, destination):\n",
    "    chunks = glob.glob(f\"{chunks_folder}/*.mp3\")\n",
    "    for chunk in chunks:\n",
    "        with open(chunk, \"rb\") as audio_file, open(destination, \"a\") as text_file:\n",
    "            transcript = openai.audio.transcriptions.create(\n",
    "                model=\"whisper-1\", file=audio_file, language=\"en\"\n",
    "            )\n",
    "            text_file.write(transcript.text)\n",
    "\n",
    "\n",
    "transcript_chunks(\"./files/chunks\", \"./files/transcript.txt\")"
   ]
  },
  {
   "cell_type": "code",
   "execution_count": null,
   "metadata": {},
   "outputs": [
    {
     "name": "stdout",
     "output_type": "stream",
     "text": [
      "[youtube] Extracting URL: https://www.youtube.com/watch?v=fRBHJk9crCo\n",
      "[youtube] fRBHJk9crCo: Downloading webpage\n",
      "[youtube] fRBHJk9crCo: Downloading tv client config\n",
      "[youtube] fRBHJk9crCo: Downloading player 91201489\n",
      "[youtube] fRBHJk9crCo: Downloading tv player API JSON\n",
      "[youtube] fRBHJk9crCo: Downloading ios player API JSON\n",
      "[youtube] fRBHJk9crCo: Downloading m3u8 information\n",
      "[info] fRBHJk9crCo: Downloading 1 format(s): 251\n",
      "[download] Destination: files\\temp_audio\n",
      "[download] 100% of    6.56MiB in 00:00:00 at 8.79MiB/s   \n",
      "[ExtractAudio] Destination: files\\temp_audio.mp3\n",
      "Deleting original file files\\temp_audio (pass -k to keep)\n"
     ]
    }
   ],
   "source": [
    "import os\n",
    "import yt_dlp\n",
    "\n",
    "\n",
    "def download_audio_from_youtube(youtube_url, output_path):\n",
    "    if os.path.exists(output_path):\n",
    "        os.remove(output_path)\n",
    "\n",
    "    ydl_opts = {\n",
    "        \"format\": \"bestaudio/best\",\n",
    "        \"postprocessors\": [\n",
    "            {\n",
    "                \"key\": \"FFmpegExtractAudio\",\n",
    "                \"preferredcodec\": \"mp3\",\n",
    "                \"preferredquality\": \"192\",\n",
    "            }\n",
    "        ],\n",
    "        \"outtmpl\": output_path,\n",
    "    }\n",
    "    with yt_dlp.YoutubeDL(ydl_opts) as ydl:\n",
    "        ydl.download([youtube_url])"
   ]
  }
 ],
 "metadata": {
  "kernelspec": {
   "display_name": "env",
   "language": "python",
   "name": "python3"
  },
  "language_info": {
   "codemirror_mode": {
    "name": "ipython",
    "version": 3
   },
   "file_extension": ".py",
   "mimetype": "text/x-python",
   "name": "python",
   "nbconvert_exporter": "python",
   "pygments_lexer": "ipython3",
   "version": "3.11.8"
  }
 },
 "nbformat": 4,
 "nbformat_minor": 2
}
